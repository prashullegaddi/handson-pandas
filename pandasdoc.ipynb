{
 "metadata": {
  "name": "",
  "signature": "sha256:061963bdb0023131a9b05eb055e1a19c272bcde9b4bd113cc8fc5cd7696b0a8e"
 },
 "nbformat": 3,
 "nbformat_minor": 0,
 "worksheets": [
  {
   "cells": [
    {
     "cell_type": "heading",
     "level": 1,
     "metadata": {},
     "source": [
      "A quick hands-on with Pandas!\n",
      "\n"
     ]
    },
    {
     "cell_type": "markdown",
     "metadata": {},
     "source": [
      "In this tutorial, I would like to discuss quick introduction to Pandas to deal with structured data (yes, CSV format) and how to do common tasks with Pandas. To begin with, we will need pandas and couple of other libraries. So, lets import them as follows."
     ]
    },
    {
     "cell_type": "code",
     "collapsed": false,
     "input": [
      "import pandas as pd\n",
      "import matplotlib.pyplot as plt\n",
      "import numpy as np"
     ],
     "language": "python",
     "metadata": {},
     "outputs": [],
     "prompt_number": 4
    },
    {
     "cell_type": "markdown",
     "metadata": {},
     "source": [
      "We will import the other modules as and when we need it. Now, say, you have a text file in CSV format, and you want to load the data into Pandas data frame. We will be using one of the datasets on UCI ML repo (namely, https://archive.ics.uci.edu/ml/datasets/Automobile). The following lines will show how to achieve the same."
     ]
    },
    {
     "cell_type": "code",
     "collapsed": false,
     "input": [
      "# the file doesn't have a header line, hence we have passed header=None \n",
      "# so that first row is not used a header.\n",
      "autos = pd.read_csv('https://archive.ics.uci.edu/ml/machine-learning-databases/autos/imports-85.data', sep=',', header=None)\n",
      "print autos"
     ],
     "language": "python",
     "metadata": {},
     "outputs": [
      {
       "output_type": "stream",
       "stream": "stdout",
       "text": [
        "<class 'pandas.core.frame.DataFrame'>\n",
        "Int64Index: 205 entries, 0 to 204\n",
        "Data columns (total 26 columns):\n",
        "0     205  non-null values\n",
        "1     205  non-null values\n",
        "2     205  non-null values\n",
        "3     205  non-null values\n",
        "4     205  non-null values\n",
        "5     205  non-null values\n",
        "6     205  non-null values\n",
        "7     205  non-null values\n",
        "8     205  non-null values\n",
        "9     205  non-null values\n",
        "10    205  non-null values\n",
        "11    205  non-null values\n",
        "12    205  non-null values\n",
        "13    205  non-null values\n",
        "14    205  non-null values\n",
        "15    205  non-null values\n",
        "16    205  non-null values\n",
        "17    205  non-null values\n",
        "18    205  non-null values\n",
        "19    205  non-null values\n",
        "20    205  non-null values\n",
        "21    205  non-null values\n",
        "22    205  non-null values\n",
        "23    205  non-null values\n",
        "24    205  non-null values\n",
        "25    205  non-null values\n",
        "dtypes: float64(5), int64(5), object(16)\n"
       ]
      }
     ],
     "prompt_number": 20
    },
    {
     "cell_type": "markdown",
     "metadata": {},
     "source": [
      "What does this mean? There are 205 rows and 26 columns. Lets print the column names now."
     ]
    },
    {
     "cell_type": "code",
     "collapsed": false,
     "input": [
      "print autos.columns"
     ],
     "language": "python",
     "metadata": {},
     "outputs": [
      {
       "output_type": "stream",
       "stream": "stdout",
       "text": [
        "Int64Index([0, 1, 2, 3, 4, 5, 6, 7, 8, 9, 10, 11, 12, 13, 14, 15, 16, 17, 18, 19, 20, 21, 22, 23, 24, 25], dtype=int64)\n"
       ]
      }
     ],
     "prompt_number": 9
    },
    {
     "cell_type": "markdown",
     "metadata": {},
     "source": [
      "What? What happened here? Remember our csv file doesn't contain a header, that's why Pandas has set it automatically to integers in the order they occur. Lets set the column names to meaningful names (as present in .names file on UCI repo site for this dataset). It's pretty easy:"
     ]
    },
    {
     "cell_type": "code",
     "collapsed": false,
     "input": [
      "autos.columns = ['symboling',\n",
      " 'normalized-losses',\n",
      " 'make',\n",
      " 'fuel-type',\n",
      " 'aspiration',\n",
      " 'num-of-doors',\n",
      " 'body-style',\n",
      " 'drive-wheels',\n",
      " 'engine-location',\n",
      " 'wheel-base',\n",
      " 'length',\n",
      " 'width',\n",
      " 'height',\n",
      " 'curb-weight',\n",
      " 'engine-type',\n",
      " 'num-of-cylinders',\n",
      " 'engine-size',\n",
      " 'fuel-system',\n",
      " 'bore',\n",
      " 'stroke',\n",
      " 'compression-ratio',\n",
      " 'horsepower',\n",
      " 'peak-rpm',\n",
      " 'city-mpg',\n",
      " 'highway-mpg',\n",
      " 'price']"
     ],
     "language": "python",
     "metadata": {},
     "outputs": [],
     "prompt_number": 22
    },
    {
     "cell_type": "code",
     "collapsed": false,
     "input": [
      "print autos"
     ],
     "language": "python",
     "metadata": {},
     "outputs": [
      {
       "output_type": "stream",
       "stream": "stdout",
       "text": [
        "<class 'pandas.core.frame.DataFrame'>\n",
        "Int64Index: 205 entries, 0 to 204\n",
        "Data columns (total 26 columns):\n",
        "symboling            205  non-null values\n",
        "normalized-losses    205  non-null values\n",
        "make                 205  non-null values\n",
        "fuel-type            205  non-null values\n",
        "aspiration           205  non-null values\n",
        "num-of-doors         205  non-null values\n",
        "body-style           205  non-null values\n",
        "drive-wheels         205  non-null values\n",
        "engine-location      205  non-null values\n",
        "wheel-base           205  non-null values\n",
        "length               205  non-null values\n",
        "width                205  non-null values\n",
        "height               205  non-null values\n",
        "curb-weight          205  non-null values\n",
        "engine-type          205  non-null values\n",
        "num-of-cylinders     205  non-null values\n",
        "engine-size          205  non-null values\n",
        "fuel-system          205  non-null values\n",
        "bore                 205  non-null values\n",
        "stroke               205  non-null values\n",
        "compression-ratio    205  non-null values\n",
        "horsepower           205  non-null values\n",
        "peak-rpm             205  non-null values\n",
        "city-mpg             205  non-null values\n",
        "highway-mpg          205  non-null values\n",
        "price                205  non-null values\n",
        "dtypes: float64(5), int64(5), object(16)\n"
       ]
      }
     ],
     "prompt_number": 12
    },
    {
     "cell_type": "markdown",
     "metadata": {},
     "source": [
      "This looks pretty cool and meaningful now! You ask how do you access a particular column? Easy. autos['horsepower']! Lets print first 10 rows from this column."
     ]
    },
    {
     "cell_type": "code",
     "collapsed": false,
     "input": [
      "print autos['horsepower'].head(10) # or autos.horsepower.head(10) would work as well."
     ],
     "language": "python",
     "metadata": {},
     "outputs": [
      {
       "output_type": "stream",
       "stream": "stdout",
       "text": [
        "0    111\n",
        "1    111\n",
        "2    154\n",
        "3    102\n",
        "4    115\n",
        "5    110\n",
        "6    110\n",
        "7    110\n",
        "8    140\n",
        "9    160\n",
        "Name: horsepower, dtype: object\n"
       ]
      }
     ],
     "prompt_number": 13
    },
    {
     "cell_type": "markdown",
     "metadata": {},
     "source": [
      "How to create a new column using the existing ones? Lets create a new column called 'volume' by multiplying length, width and height:"
     ]
    },
    {
     "cell_type": "code",
     "collapsed": false,
     "input": [
      "autos['volume'] = autos.length * autos.width * autos.height\n",
      "print autos.volume.head(5)"
     ],
     "language": "python",
     "metadata": {},
     "outputs": [
      {
       "output_type": "stream",
       "stream": "stdout",
       "text": [
        "0    528019.904\n",
        "1    528019.904\n",
        "2    587592.640\n",
        "3    634816.956\n",
        "4    636734.832\n",
        "Name: volume, dtype: float64\n"
       ]
      }
     ],
     "prompt_number": 16
    },
    {
     "cell_type": "markdown",
     "metadata": {},
     "source": [
      "Pretty cool, ain't it?"
     ]
    },
    {
     "cell_type": "code",
     "collapsed": false,
     "input": [
      "%matplotlib inline  \n",
      "plt.figure()\n",
      "autos['wheel-base'].hist(bins=20)\n",
      "plt.title('distribution of wheel base')\n",
      "plt.show()"
     ],
     "language": "python",
     "metadata": {},
     "outputs": [
      {
       "metadata": {},
       "output_type": "display_data",
       "png": "[encoded data removed]",
       "text": [
        "<matplotlib.figure.Figure at 0x100675a90>"
       ]
      }
     ],
     "prompt_number": 25
    },
    {
     "cell_type": "code",
     "collapsed": false,
     "input": [],
     "language": "python",
     "metadata": {},
     "outputs": []
    }
   ],
   "metadata": {}
  }
 ]
}