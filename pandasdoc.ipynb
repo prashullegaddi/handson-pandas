{
 "metadata": {
  "name": "",
  "signature": "sha256:4e7b240df3e5225511b96191f1f52775a9d800aba6eb8256b5203af8a62349b9"
 },
 "nbformat": 3,
 "nbformat_minor": 0,
 "worksheets": [
  {
   "cells": [
    {
     "cell_type": "heading",
     "level": 1,
     "metadata": {},
     "source": [
      "A quick hands-on with Pandas!"
     ]
    },
    {
     "cell_type": "markdown",
     "metadata": {},
     "source": [
      "In this tutorial, I would like to discuss quick introduction to Pandas to deal with structured data (yes, CSV format) and how to do common tasks with Pandas. To begin with, we will need pandas and couple of other libraries. So, lets import them as follows.<p>"
     ]
    },
    {
     "cell_type": "code",
     "collapsed": false,
     "input": [
      "import pandas as pd\n",
      "import matplotlib.pyplot as plt\n",
      "import numpy as np\n",
      "%matplotlib inline  "
     ],
     "language": "python",
     "metadata": {},
     "outputs": [],
     "prompt_number": 49
    },
    {
     "cell_type": "markdown",
     "metadata": {},
     "source": [
      "We will import the other modules as and when we need it. Before we beging, what versions this tutorial uses?"
     ]
    },
    {
     "cell_type": "code",
     "collapsed": false,
     "input": [
      "import sys\n",
      "\n",
      "print sys.version\n",
      "print pd.version.version"
     ],
     "language": "python",
     "metadata": {},
     "outputs": [
      {
       "output_type": "stream",
       "stream": "stdout",
       "text": [
        "2.7.7 |Anaconda 1.8.0 (x86_64)| (default, Jun  2 2014, 12:48:16) \n",
        "[GCC 4.0.1 (Apple Inc. build 5493)]\n",
        "0.12.0\n"
       ]
      }
     ],
     "prompt_number": 50
    },
    {
     "cell_type": "heading",
     "level": 2,
     "metadata": {},
     "source": [
      "LOADING A CSV TEXT FILE."
     ]
    },
    {
     "cell_type": "markdown",
     "metadata": {},
     "source": [
      "Lets say you have a text file in CSV format, and you want to load the data into Pandas data frame. We will be using one of the datasets on UCI ML repo (namely, https://archive.ics.uci.edu/ml/datasets/Automobile). The following lines will show how to achieve the same.\n",
      "<p>"
     ]
    },
    {
     "cell_type": "code",
     "collapsed": false,
     "input": [
      "# the file doesn't have a header line, hence we have passed header=None \n",
      "# so that first row is not used a header.\n",
      "autos = pd.read_csv('https://archive.ics.uci.edu/ml/machine-learning-databases/autos/imports-85.data', sep=',', header=None)\n",
      "print autos"
     ],
     "language": "python",
     "metadata": {},
     "outputs": [
      {
       "output_type": "stream",
       "stream": "stdout",
       "text": [
        "<class 'pandas.core.frame.DataFrame'>\n",
        "Int64Index: 205 entries, 0 to 204\n",
        "Data columns (total 26 columns):\n",
        "0     205  non-null values\n",
        "1     205  non-null values\n",
        "2     205  non-null values\n",
        "3     205  non-null values\n",
        "4     205  non-null values\n",
        "5     205  non-null values\n",
        "6     205  non-null values\n",
        "7     205  non-null values\n",
        "8     205  non-null values\n",
        "9     205  non-null values\n",
        "10    205  non-null values\n",
        "11    205  non-null values\n",
        "12    205  non-null values\n",
        "13    205  non-null values\n",
        "14    205  non-null values\n",
        "15    205  non-null values\n",
        "16    205  non-null values\n",
        "17    205  non-null values\n",
        "18    205  non-null values\n",
        "19    205  non-null values\n",
        "20    205  non-null values\n",
        "21    205  non-null values\n",
        "22    205  non-null values\n",
        "23    205  non-null values\n",
        "24    205  non-null values\n",
        "25    205  non-null values\n",
        "dtypes: float64(5), int64(5), object(16)\n"
       ]
      }
     ],
     "prompt_number": 51
    },
    {
     "cell_type": "markdown",
     "metadata": {},
     "source": [
      "What does this mean? There are 205 rows and 26 columns. Lets print the column names now."
     ]
    },
    {
     "cell_type": "code",
     "collapsed": false,
     "input": [
      "print autos.columns"
     ],
     "language": "python",
     "metadata": {},
     "outputs": [
      {
       "output_type": "stream",
       "stream": "stdout",
       "text": [
        "Int64Index([0, 1, 2, 3, 4, 5, 6, 7, 8, 9, 10, 11, 12, 13, 14, 15, 16, 17, 18, 19, 20, 21, 22, 23, 24, 25], dtype=int64)\n"
       ]
      }
     ],
     "prompt_number": 52
    },
    {
     "cell_type": "markdown",
     "metadata": {},
     "source": [
      "What happened here? Remember our csv file doesn't contain a header, that's why Pandas has set it automatically to integers in the order they occur. Lets set the column names to meaningful names (as present in https://archive.ics.uci.edu/ml/machine-learning-databases/autos/imports-85.names file on UCI repo site for this dataset). It's pretty easy:"
     ]
    },
    {
     "cell_type": "code",
     "collapsed": false,
     "input": [
      "autos.columns = ['symboling',\n",
      " 'normalized_losses',\n",
      " 'make',\n",
      " 'fuel_type',\n",
      " 'aspiration',\n",
      " 'num_of_doors',\n",
      " 'body_style',\n",
      " 'drive_wheels',\n",
      " 'engine_location',\n",
      " 'wheel_base',\n",
      " 'length',\n",
      " 'width',\n",
      " 'height',\n",
      " 'curb_weight',\n",
      " 'engine_type',\n",
      " 'num_of_cylinders',\n",
      " 'engine_size',\n",
      " 'fuel_system',\n",
      " 'bore',\n",
      " 'stroke',\n",
      " 'compression_ratio',\n",
      " 'horsepower',\n",
      " 'peak_rpm',\n",
      " 'city_mpg',\n",
      " 'highway_mpg',\n",
      " 'price']"
     ],
     "language": "python",
     "metadata": {},
     "outputs": [],
     "prompt_number": 53
    },
    {
     "cell_type": "code",
     "collapsed": false,
     "input": [
      "print autos"
     ],
     "language": "python",
     "metadata": {},
     "outputs": [
      {
       "output_type": "stream",
       "stream": "stdout",
       "text": [
        "<class 'pandas.core.frame.DataFrame'>\n",
        "Int64Index: 205 entries, 0 to 204\n",
        "Data columns (total 26 columns):\n",
        "symboling            205  non-null values\n",
        "normalized_losses    205  non-null values\n",
        "make                 205  non-null values\n",
        "fuel_type            205  non-null values\n",
        "aspiration           205  non-null values\n",
        "num_of_doors         205  non-null values\n",
        "body_style           205  non-null values\n",
        "drive_wheels         205  non-null values\n",
        "engine_location      205  non-null values\n",
        "wheel_base           205  non-null values\n",
        "length               205  non-null values\n",
        "width                205  non-null values\n",
        "height               205  non-null values\n",
        "curb_weight          205  non-null values\n",
        "engine_type          205  non-null values\n",
        "num_of_cylinders     205  non-null values\n",
        "engine_size          205  non-null values\n",
        "fuel_system          205  non-null values\n",
        "bore                 205  non-null values\n",
        "stroke               205  non-null values\n",
        "compression_ratio    205  non-null values\n",
        "horsepower           205  non-null values\n",
        "peak_rpm             205  non-null values\n",
        "city_mpg             205  non-null values\n",
        "highway_mpg          205  non-null values\n",
        "price                205  non-null values\n",
        "dtypes: float64(5), int64(5), object(16)\n"
       ]
      }
     ],
     "prompt_number": 54
    },
    {
     "cell_type": "markdown",
     "metadata": {},
     "source": [
      "This looks meaningful now! You ask how do you access a particular column? Easy. autos['horsepower']! Lets print first 10 rows from this column."
     ]
    },
    {
     "cell_type": "code",
     "collapsed": false,
     "input": [
      "print autos['horsepower'].head(5) # or autos.horsepower.head(10) would work as well."
     ],
     "language": "python",
     "metadata": {},
     "outputs": [
      {
       "output_type": "stream",
       "stream": "stdout",
       "text": [
        "0    111\n",
        "1    111\n",
        "2    154\n",
        "3    102\n",
        "4    115\n",
        "Name: horsepower, dtype: object\n"
       ]
      }
     ],
     "prompt_number": 55
    },
    {
     "cell_type": "markdown",
     "metadata": {},
     "source": [
      "How to select more than two columns? Simple, pass a list of the column names to be selected instead of one column name! E.g. if you want to select city_mpg and higway_mpg:"
     ]
    },
    {
     "cell_type": "code",
     "collapsed": false,
     "input": [
      "print autos[['city_mpg', 'highway_mpg']].head(5)"
     ],
     "language": "python",
     "metadata": {},
     "outputs": [
      {
       "output_type": "stream",
       "stream": "stdout",
       "text": [
        "   city_mpg  highway_mpg\n",
        "0        21           27\n",
        "1        21           27\n",
        "2        19           26\n",
        "3        24           30\n",
        "4        18           22\n"
       ]
      }
     ],
     "prompt_number": 56
    },
    {
     "cell_type": "markdown",
     "metadata": {},
     "source": [
      "<b>A quick note on accessing a data frame:</b> the result of selection is either a new data frame (if more than one column is selected) or a series (if a single column is selected)."
     ]
    },
    {
     "cell_type": "heading",
     "level": 2,
     "metadata": {},
     "source": [
      "TRANSFORMING COLUMNS."
     ]
    },
    {
     "cell_type": "markdown",
     "metadata": {},
     "source": [
      "How to create a new column using the existing ones? Lets create a new column called 'volume' by multiplying length, width and height:"
     ]
    },
    {
     "cell_type": "code",
     "collapsed": false,
     "input": [
      "autos['volume'] = autos.length * autos.width * autos.height\n",
      "print autos.volume.head(5)"
     ],
     "language": "python",
     "metadata": {},
     "outputs": [
      {
       "output_type": "stream",
       "stream": "stdout",
       "text": [
        "0    528019.904\n",
        "1    528019.904\n",
        "2    587592.640\n",
        "3    634816.956\n",
        "4    636734.832\n",
        "Name: volume, dtype: float64\n"
       ]
      }
     ],
     "prompt_number": 57
    },
    {
     "cell_type": "markdown",
     "metadata": {},
     "source": [
      "Pretty cool, ain't it? The same can be achieved using apply function which is part of every data frame and series. Let us transform the column city miles per gallon (I hope that's what it means :-)) into kilometers per gallon using apply. "
     ]
    },
    {
     "cell_type": "code",
     "collapsed": false,
     "input": [
      "autos['city_kpg'] = autos.city_mpg.apply(lambda x: 1.6*x)\n",
      "print autos[['city_mpg', 'city_kpg']].head(5)"
     ],
     "language": "python",
     "metadata": {},
     "outputs": [
      {
       "output_type": "stream",
       "stream": "stdout",
       "text": [
        "   city_mpg  city_kpg\n",
        "0        21      33.6\n",
        "1        21      33.6\n",
        "2        19      30.4\n",
        "3        24      38.4\n",
        "4        18      28.8\n"
       ]
      }
     ],
     "prompt_number": 58
    },
    {
     "cell_type": "markdown",
     "metadata": {},
     "source": [
      "We can compute the volume using apply() as below:"
     ]
    },
    {
     "cell_type": "code",
     "collapsed": false,
     "input": [
      "import operator\n",
      "\n",
      "def mul(x):\n",
      "    # multiply all items in x\n",
      "    return reduce(operator.mul, x)\n",
      "\n",
      "autos['volume2'] = autos[['length', 'width', 'height']].apply(mul, axis=1)\n",
      "print autos.volume2.head(5)"
     ],
     "language": "python",
     "metadata": {},
     "outputs": [
      {
       "output_type": "stream",
       "stream": "stdout",
       "text": [
        "0    528019.904\n",
        "1    528019.904\n",
        "2    587592.640\n",
        "3    634816.956\n",
        "4    636734.832\n",
        "Name: volume2, dtype: float64\n"
       ]
      }
     ],
     "prompt_number": 59
    },
    {
     "cell_type": "heading",
     "level": 2,
     "metadata": {},
     "source": [
      "AGGREGATING DATA."
     ]
    },
    {
     "cell_type": "markdown",
     "metadata": {},
     "source": [
      "Lets talk about some basic data aggregations that one needs. Note that every data frame/series in Pandas comes with a describe() funtion to provide quick insights such as mean, std. E.g., we want to quickly understand about wheel_base:"
     ]
    },
    {
     "cell_type": "code",
     "collapsed": false,
     "input": [
      "print autos.wheel_base.describe()"
     ],
     "language": "python",
     "metadata": {},
     "outputs": [
      {
       "output_type": "stream",
       "stream": "stdout",
       "text": [
        "count    205.000000\n",
        "mean      98.756585\n",
        "std        6.021776\n",
        "min       86.600000\n",
        "25%       94.500000\n",
        "50%       97.000000\n",
        "75%      102.400000\n",
        "max      120.900000\n",
        "dtype: float64\n"
       ]
      }
     ],
     "prompt_number": 61
    },
    {
     "cell_type": "markdown",
     "metadata": {},
     "source": [
      "Pretty handy isn't it? At a glance, this gives important measures like such as  mean, 25th percentile, median (i.e., 50th percentile). Now, how to figure out the unique values and their counts of a column? Lets say you want to see the top 10 car makes."
     ]
    },
    {
     "cell_type": "code",
     "collapsed": false,
     "input": [
      "print autos.make.value_counts().head(10)"
     ],
     "language": "python",
     "metadata": {},
     "outputs": [
      {
       "output_type": "stream",
       "stream": "stdout",
       "text": [
        "toyota        32\n",
        "nissan        18\n",
        "mazda         17\n",
        "mitsubishi    13\n",
        "honda         13\n",
        "subaru        12\n",
        "volkswagen    12\n",
        "volvo         11\n",
        "peugot        11\n",
        "dodge          9\n",
        "dtype: int64\n"
       ]
      }
     ],
     "prompt_number": 65
    },
    {
     "cell_type": "markdown",
     "metadata": {},
     "source": [
      "You can also make value_counts return the relative frequencies i.e., normalized values by passing `normalize=True`."
     ]
    },
    {
     "cell_type": "code",
     "collapsed": false,
     "input": [
      "print autos.make.value_counts(normalize=True).head(10)"
     ],
     "language": "python",
     "metadata": {},
     "outputs": [
      {
       "output_type": "stream",
       "stream": "stdout",
       "text": [
        "toyota        0.156098\n",
        "nissan        0.087805\n",
        "mazda         0.082927\n",
        "mitsubishi    0.063415\n",
        "honda         0.063415\n",
        "subaru        0.058537\n",
        "volkswagen    0.058537\n",
        "volvo         0.053659\n",
        "peugot        0.053659\n",
        "dodge         0.043902\n",
        "dtype: float64\n"
       ]
      }
     ],
     "prompt_number": 66
    },
    {
     "cell_type": "markdown",
     "metadata": {},
     "source": [
      "You may ask how to do you compute the number of unique values rather than their counts? This is how you'd accomplish this:"
     ]
    },
    {
     "cell_type": "code",
     "collapsed": false,
     "input": [
      "print 'Number of unique makes: ', len(pd.unique(autos.make.values))"
     ],
     "language": "python",
     "metadata": {},
     "outputs": [
      {
       "output_type": "stream",
       "stream": "stdout",
       "text": [
        "Number of unique makes:  22\n"
       ]
      }
     ],
     "prompt_number": 70
    },
    {
     "cell_type": "markdown",
     "metadata": {},
     "source": [
      "<p>\n",
      "Lastly, lets discuss how do you group by a column(or columns). Again note that every data frame is equipped with a `groupby()` function which returns a `DataFrameGroupBy` object which can be iterated over and which returns a tuple of key and DataFrame of values for that key. Now lets say if you want to group by 'make' and 'fuel_type' and figure out how many cars are there for each make and fuel_type."
     ]
    },
    {
     "cell_type": "code",
     "collapsed": false,
     "input": [
      "make_fuel_type_cnts = [(key, len(grp)) for key, grp in autos.groupby(['make', 'fuel_type'])]\n",
      "print make_fuel_type_cnts[:11]"
     ],
     "language": "python",
     "metadata": {},
     "outputs": [
      {
       "output_type": "stream",
       "stream": "stdout",
       "text": [
        "[(('alfa-romero', 'gas'), 3), (('audi', 'gas'), 7), (('bmw', 'gas'), 8), (('chevrolet', 'gas'), 3), (('dodge', 'gas'), 9), (('honda', 'gas'), 13), (('isuzu', 'gas'), 4), (('jaguar', 'gas'), 3), (('mazda', 'diesel'), 2), (('mazda', 'gas'), 15), (('mercedes-benz', 'diesel'), 4)]\n"
       ]
      }
     ],
     "prompt_number": 73
    },
    {
     "cell_type": "heading",
     "level": 2,
     "metadata": {},
     "source": [
      "PLOTTING DATA IN DATA FRAME."
     ]
    },
    {
     "cell_type": "markdown",
     "metadata": {},
     "source": [
      "Lets spend sometime on how to represent the data. How about plotting the histogram to visualize how is wheel base for cars is distributed? We can do this using `hist()` function. Note every data frame/series instance in Pandas comes with matplotlib handle viz., `hist()` and `plot()`."
     ]
    },
    {
     "cell_type": "code",
     "collapsed": false,
     "input": [
      "#plt.figure()\n",
      "plt.figure(figsize=(8,5), dpi=100)\n",
      "autos['wheel_base'].hist(bins=20)\n",
      "plt.title('distribution of wheel base')\n",
      "plt.show()"
     ],
     "language": "python",
     "metadata": {},
     "outputs": [
      {
       "metadata": {},
       "output_type": "display_data",
       "png": "[encoded data removed]",
       "text": [
        "<matplotlib.figure.Figure at 0x107fd25d0>"
       ]
      }
     ],
     "prompt_number": 60
    },
    {
     "cell_type": "markdown",
     "metadata": {},
     "source": [
      "Lets plot the counts for each make and body styles."
     ]
    },
    {
     "cell_type": "code",
     "collapsed": false,
     "input": [
      "make_body_style_cnts = [(key, len(grp)) for key, grp in autos.groupby(['make', 'body_style'])]\n",
      "\n",
      "df = pd.DataFrame(make_body_style_cnts)\n",
      "df.columns = ['make_body_style', 'cnt']\n",
      "\n",
      "plt.figure(figsize=(13,13), dpi=100)\n",
      "df.plot(x='make_body_style', y='cnt', kind='barh')\n",
      "plt.show()"
     ],
     "language": "python",
     "metadata": {},
     "outputs": [
      {
       "metadata": {},
       "output_type": "display_data",
       "png": "[encoded data removed]",
       "text": [
        "<matplotlib.figure.Figure at 0x1081bf150>"
       ]
      }
     ],
     "prompt_number": 84
    },
    {
     "cell_type": "heading",
     "level": 2,
     "metadata": {},
     "source": [
      "OUTPUT FORMATTING."
     ]
    },
    {
     "cell_type": "markdown",
     "metadata": {},
     "source": [
      "Another useful features is that a data frame can be converted to many formats such as CSV file (look at `to_csv`), a latex table (`to_latex`), an html table which then can be used with any documentation purposes as I demonstrate below.\n",
      "Lets say you want to tabulate the counts computed in a html table above. This can be done as follows:"
     ]
    },
    {
     "cell_type": "code",
     "collapsed": false,
     "input": [
      "a = df.head(10).to_html()"
     ],
     "language": "python",
     "metadata": {},
     "outputs": [],
     "prompt_number": 87
    },
    {
     "cell_type": "markdown",
     "metadata": {},
     "source": [
      "Take the output of the variable `a` and use the string output in your html file. The html table would render as below:"
     ]
    },
    {
     "cell_type": "markdown",
     "metadata": {},
     "source": [
      "<table border=\"1\" class=\"dataframe\">  <thead>    <tr style=\"text-align: right;\">      <th></th>      <th>make_body_style</th>      <th>cnt</th>    </tr>  </thead>  <tbody>    <tr>      <th>0</th>      <td> (alfa-romero, convertible)</td>      <td> 2</td>    </tr>    <tr>      <th>1</th>      <td>   (alfa-romero, hatchback)</td>      <td> 1</td>    </tr>    <tr>      <th>2</th>      <td>          (audi, hatchback)</td>      <td> 1</td>    </tr>    <tr>      <th>3</th>      <td>              (audi, sedan)</td>      <td> 5</td>    </tr>    <tr>      <th>4</th>      <td>              (audi, wagon)</td>      <td> 1</td>    </tr>    <tr>      <th>5</th>      <td>               (bmw, sedan)</td>      <td> 8</td>    </tr>    <tr>      <th>6</th>      <td>     (chevrolet, hatchback)</td>      <td> 2</td>    </tr>    <tr>      <th>7</th>      <td>         (chevrolet, sedan)</td>      <td> 1</td>    </tr>    <tr>      <th>8</th>      <td>         (dodge, hatchback)</td>      <td> 5</td>    </tr>    <tr>      <th>9</th>      <td>             (dodge, sedan)</td>      <td> 3</td>    </tr>  </tbody></table>"
     ]
    },
    {
     "cell_type": "heading",
     "level": 2,
     "metadata": {},
     "source": [
      "SO, WHAT NEXT?"
     ]
    },
    {
     "cell_type": "markdown",
     "metadata": {},
     "source": [
      "This tutorial was just meant to get you started with Pandas. Explore more with the pandas documentation listed in References and stackoverflow."
     ]
    },
    {
     "cell_type": "heading",
     "level": 2,
     "metadata": {},
     "source": [
      "References"
     ]
    },
    {
     "cell_type": "markdown",
     "metadata": {},
     "source": [
      "<ul>\n",
      "<li>Pandas doc: http://pandas.pydata.org/pandas-docs/stable/pandas.pdf</li>\n",
      "<li>And of course, stackoverflow :)\n",
      "</ul>"
     ]
    }
   ],
   "metadata": {}
  }
 ]
}